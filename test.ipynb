{
 "cells": [
  {
   "cell_type": "code",
   "execution_count": 20,
   "metadata": {},
   "outputs": [],
   "source": [
    "import networkx as nx\n",
    "import pandas as pd\n",
    "import random\n",
    "from tqdm import tqdm"
   ]
  },
  {
   "cell_type": "code",
   "execution_count": 35,
   "metadata": {},
   "outputs": [],
   "source": [
    "G = nx.read_adjlist(\"data/ca-CondMat.txt\")"
   ]
  },
  {
   "cell_type": "code",
   "execution_count": 39,
   "metadata": {},
   "outputs": [],
   "source": [
    "Gcc = sorted(nx.connected_components(G), key=len, reverse=True)\n",
    "G0 = G.subgraph(Gcc[1])"
   ]
  },
  {
   "cell_type": "code",
   "execution_count": 42,
   "metadata": {},
   "outputs": [],
   "source": [
    "data = random.sample(G0.edges, round(G0.number_of_edges()*0.3))"
   ]
  },
  {
   "cell_type": "code",
   "execution_count": 44,
   "metadata": {},
   "outputs": [],
   "source": [
    "G0 = nx.Graph(G0)"
   ]
  },
  {
   "cell_type": "code",
   "execution_count": 45,
   "metadata": {},
   "outputs": [],
   "source": [
    "G0.remove_edges_from(data)"
   ]
  },
  {
   "cell_type": "code",
   "execution_count": 36,
   "metadata": {},
   "outputs": [
    {
     "data": {
      "text/plain": [
       "567"
      ]
     },
     "execution_count": 36,
     "metadata": {},
     "output_type": "execute_result"
    }
   ],
   "source": [
    "nx.number_connected_components(G)"
   ]
  },
  {
   "cell_type": "code",
   "execution_count": 48,
   "metadata": {},
   "outputs": [],
   "source": [
    "features = pd.DataFrame(columns=['source', 'target'])"
   ]
  },
  {
   "cell_type": "code",
   "execution_count": 61,
   "metadata": {},
   "outputs": [
    {
     "name": "stderr",
     "output_type": "stream",
     "text": [
      "100%|██████████| 21/21 [00:00<00:00, 10512.04it/s]\n"
     ]
    }
   ],
   "source": [
    "pairs = []\n",
    "for node in tqdm(G0.nodes):\n",
    "    kneighbors = nx.single_source_shortest_path_length(G0, node, cutoff=2)\n",
    "    for n in kneighbors:\n",
    "        if kneighbors[n] == 2 and (n, node) not in pairs:\n",
    "            pairs.append((node, n))"
   ]
  },
  {
   "cell_type": "code",
   "execution_count": 62,
   "metadata": {},
   "outputs": [],
   "source": [
    "degree_i = []\n",
    "degree_j = []\n",
    "common_neighbors = []\n",
    "\n",
    "for pair in pairs:\n",
    "    degree_i.append(G0.degree(pair[0]))\n",
    "    degree_j.append(G0.degree(pair[1]))\n",
    "    common_neighbors.append(len(list(nx.common_neighbors(G0, pair[0], pair[1]))))\n",
    "\n",
    "features = pd.DataFrame({\n",
    "    'degree_i': degree_i,\n",
    "    'degree_j': degree_j,\n",
    "    'common_neighbors': common_neighbors\n",
    "},columns=['degree_i', 'degree_j', 'common_neighbors'], index=pairs)"
   ]
  },
  {
   "cell_type": "code",
   "execution_count": 63,
   "metadata": {},
   "outputs": [
    {
     "data": {
      "text/html": [
       "<div>\n",
       "<style scoped>\n",
       "    .dataframe tbody tr th:only-of-type {\n",
       "        vertical-align: middle;\n",
       "    }\n",
       "\n",
       "    .dataframe tbody tr th {\n",
       "        vertical-align: top;\n",
       "    }\n",
       "\n",
       "    .dataframe thead th {\n",
       "        text-align: right;\n",
       "    }\n",
       "</style>\n",
       "<table border=\"1\" class=\"dataframe\">\n",
       "  <thead>\n",
       "    <tr style=\"text-align: right;\">\n",
       "      <th></th>\n",
       "      <th>degree_i</th>\n",
       "      <th>degree_j</th>\n",
       "      <th>common_neighbors</th>\n",
       "    </tr>\n",
       "  </thead>\n",
       "  <tbody>\n",
       "    <tr>\n",
       "      <th>(80795, 73439)</th>\n",
       "      <td>13</td>\n",
       "      <td>10</td>\n",
       "      <td>8</td>\n",
       "    </tr>\n",
       "    <tr>\n",
       "      <th>(80795, 38381)</th>\n",
       "      <td>13</td>\n",
       "      <td>12</td>\n",
       "      <td>11</td>\n",
       "    </tr>\n",
       "    <tr>\n",
       "      <th>(80795, 104883)</th>\n",
       "      <td>13</td>\n",
       "      <td>14</td>\n",
       "      <td>11</td>\n",
       "    </tr>\n",
       "    <tr>\n",
       "      <th>(80795, 51144)</th>\n",
       "      <td>13</td>\n",
       "      <td>11</td>\n",
       "      <td>9</td>\n",
       "    </tr>\n",
       "    <tr>\n",
       "      <th>(80795, 23192)</th>\n",
       "      <td>13</td>\n",
       "      <td>13</td>\n",
       "      <td>11</td>\n",
       "    </tr>\n",
       "    <tr>\n",
       "      <th>...</th>\n",
       "      <td>...</td>\n",
       "      <td>...</td>\n",
       "      <td>...</td>\n",
       "    </tr>\n",
       "    <tr>\n",
       "      <th>(80713, 50833)</th>\n",
       "      <td>14</td>\n",
       "      <td>14</td>\n",
       "      <td>11</td>\n",
       "    </tr>\n",
       "    <tr>\n",
       "      <th>(99884, 23192)</th>\n",
       "      <td>13</td>\n",
       "      <td>13</td>\n",
       "      <td>9</td>\n",
       "    </tr>\n",
       "    <tr>\n",
       "      <th>(99884, 43874)</th>\n",
       "      <td>13</td>\n",
       "      <td>2</td>\n",
       "      <td>1</td>\n",
       "    </tr>\n",
       "    <tr>\n",
       "      <th>(73927, 50833)</th>\n",
       "      <td>12</td>\n",
       "      <td>14</td>\n",
       "      <td>9</td>\n",
       "    </tr>\n",
       "    <tr>\n",
       "      <th>(43874, 50833)</th>\n",
       "      <td>2</td>\n",
       "      <td>14</td>\n",
       "      <td>1</td>\n",
       "    </tr>\n",
       "  </tbody>\n",
       "</table>\n",
       "<p>65 rows × 3 columns</p>\n",
       "</div>"
      ],
      "text/plain": [
       "                 degree_i  degree_j  common_neighbors\n",
       "(80795, 73439)         13        10                 8\n",
       "(80795, 38381)         13        12                11\n",
       "(80795, 104883)        13        14                11\n",
       "(80795, 51144)         13        11                 9\n",
       "(80795, 23192)         13        13                11\n",
       "...                   ...       ...               ...\n",
       "(80713, 50833)         14        14                11\n",
       "(99884, 23192)         13        13                 9\n",
       "(99884, 43874)         13         2                 1\n",
       "(73927, 50833)         12        14                 9\n",
       "(43874, 50833)          2        14                 1\n",
       "\n",
       "[65 rows x 3 columns]"
      ]
     },
     "execution_count": 63,
     "metadata": {},
     "output_type": "execute_result"
    }
   ],
   "source": [
    "features"
   ]
  },
  {
   "cell_type": "code",
   "execution_count": 64,
   "metadata": {},
   "outputs": [
    {
     "data": {
      "text/plain": [
       "[('80795', '73439'),\n",
       " ('73439', '38381'),\n",
       " ('6356', '80713'),\n",
       " ('103064', '73927'),\n",
       " ('51144', '103064'),\n",
       " ('38381', '77217'),\n",
       " ('80795', '104883'),\n",
       " ('52775', '77217'),\n",
       " ('103584', '103064'),\n",
       " ('63926', '103064'),\n",
       " ('48646', '77217'),\n",
       " ('6356', '52775'),\n",
       " ('10711', '73290'),\n",
       " ('80795', '51144'),\n",
       " ('103584', '63926'),\n",
       " ('80713', '50833'),\n",
       " ('103584', '73927'),\n",
       " ('103584', '10711'),\n",
       " ('77217', '80713'),\n",
       " ('6356', '103584'),\n",
       " ('73439', '50833'),\n",
       " ('48646', '103584'),\n",
       " ('48646', '103064'),\n",
       " ('63926', '104883'),\n",
       " ('59094', '80713'),\n",
       " ('51144', '50833'),\n",
       " ('73439', '59094'),\n",
       " ('38381', '52775'),\n",
       " ('80795', '38381'),\n",
       " ('63926', '51144'),\n",
       " ('104883', '23192'),\n",
       " ('77217', '103064'),\n",
       " ('52775', '73927'),\n",
       " ('52775', '103064'),\n",
       " ('38381', '51144'),\n",
       " ('73439', '103064'),\n",
       " ('103584', '77217'),\n",
       " ('10711', '23192'),\n",
       " ('73439', '99884'),\n",
       " ('10711', '73927'),\n",
       " ('52775', '99884'),\n",
       " ('38381', '23192'),\n",
       " ('59094', '99884'),\n",
       " ('99884', '23192'),\n",
       " ('73439', '10711'),\n",
       " ('80795', '23192'),\n",
       " ('73927', '50833'),\n",
       " ('103064', '99884'),\n",
       " ('48646', '51144'),\n",
       " ('104883', '73927'),\n",
       " ('6356', '10711'),\n",
       " ('73439', '51144')]"
      ]
     },
     "execution_count": 64,
     "metadata": {},
     "output_type": "execute_result"
    }
   ],
   "source": [
    "data"
   ]
  },
  {
   "cell_type": "code",
   "execution_count": 65,
   "metadata": {},
   "outputs": [],
   "source": [
    "label = []\n",
    "for i, row in features.iterrows():\n",
    "    if i in data or (i[1], i[0]) in data:\n",
    "        label.append(1)\n",
    "    else:\n",
    "        label.append(0)\n",
    "features['label'] = label"
   ]
  },
  {
   "cell_type": "code",
   "execution_count": 75,
   "metadata": {},
   "outputs": [],
   "source": [
    "from sklearn.linear_model import LogisticRegression\n",
    "from sklearn.model_selection import train_test_split\n",
    "from sklearn.metrics import classification_report"
   ]
  },
  {
   "cell_type": "code",
   "execution_count": 70,
   "metadata": {},
   "outputs": [],
   "source": [
    "X_train, X_test, y_train, y_test = train_test_split(features[['degree_i', 'degree_j', 'common_neighbors']].values, features['label'], test_size=0.3)"
   ]
  },
  {
   "cell_type": "code",
   "execution_count": 72,
   "metadata": {},
   "outputs": [],
   "source": [
    "clf = LogisticRegression().fit(X_train, y_train)"
   ]
  },
  {
   "cell_type": "code",
   "execution_count": 76,
   "metadata": {},
   "outputs": [],
   "source": [
    "y_pred = clf.predict(X_test)"
   ]
  },
  {
   "cell_type": "code",
   "execution_count": 78,
   "metadata": {},
   "outputs": [
    {
     "name": "stdout",
     "output_type": "stream",
     "text": [
      "              precision    recall  f1-score   support\n",
      "\n",
      "           0       1.00      1.00      1.00         3\n",
      "           1       1.00      1.00      1.00        17\n",
      "\n",
      "    accuracy                           1.00        20\n",
      "   macro avg       1.00      1.00      1.00        20\n",
      "weighted avg       1.00      1.00      1.00        20\n",
      "\n"
     ]
    }
   ],
   "source": [
    "print(classification_report(y_test, y_pred))"
   ]
  }
 ],
 "metadata": {
  "kernelspec": {
   "display_name": "Python 3.8.12",
   "language": "python",
   "name": "python3"
  },
  "language_info": {
   "codemirror_mode": {
    "name": "ipython",
    "version": 3
   },
   "file_extension": ".py",
   "mimetype": "text/x-python",
   "name": "python",
   "nbconvert_exporter": "python",
   "pygments_lexer": "ipython3",
   "version": "3.8.12"
  },
  "orig_nbformat": 4,
  "vscode": {
   "interpreter": {
    "hash": "f27b976aa897af32c09d5b2017e6eaeae9fce6dda3a991c257df1513f3b41573"
   }
  }
 },
 "nbformat": 4,
 "nbformat_minor": 2
}
