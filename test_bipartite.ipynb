{
 "cells": [
  {
   "cell_type": "code",
   "execution_count": 1,
   "metadata": {},
   "outputs": [],
   "source": [
    "import networkx as nx\n",
    "from networkx.algorithms import bipartite\n",
    "import random\n",
    "from tqdm import tqdm"
   ]
  },
  {
   "cell_type": "code",
   "execution_count": 11,
   "metadata": {},
   "outputs": [],
   "source": [
    "edges_dict = {}\n",
    "user_nodes = set()\n",
    "tag_nodes = set()\n",
    "with open('data/datasets/munmun_twitterex_ut/out.munmun_twitterex_ut', \"r\") as f:\n",
    "    lines = f.readlines()\n",
    "    for line in lines[1:]:\n",
    "        data = line.strip().split(\" \")\n",
    "        if int(data[0]) <= 10000:\n",
    "            user = 'user' + data[0]\n",
    "            tag = 'tag' + data[1]\n",
    "            user_nodes.add(user)\n",
    "            tag_nodes.add(tag)\n",
    "            \n",
    "            if (user, tag) not in edges_dict:\n",
    "                edges_dict[(user, tag)] = {\n",
    "                    'weight': 1,\n",
    "                    'timestamp': float(data[3])}\n",
    "            else:\n",
    "                edges_dict[(user, tag)]['weight'] += 1"
   ]
  },
  {
   "cell_type": "code",
   "execution_count": 17,
   "metadata": {},
   "outputs": [
    {
     "data": {
      "text/plain": [
       "116771"
      ]
     },
     "execution_count": 17,
     "metadata": {},
     "output_type": "execute_result"
    }
   ],
   "source": [
    "len(tag_nodes)"
   ]
  },
  {
   "cell_type": "code",
   "execution_count": 12,
   "metadata": {},
   "outputs": [],
   "source": [
    "edges = [(v['timestamp'], (k[0], k[1], v['weight'])) for k, v in edges_dict.items()]"
   ]
  },
  {
   "cell_type": "code",
   "execution_count": 13,
   "metadata": {},
   "outputs": [],
   "source": [
    "edges = sorted(edges, key=lambda x: x[0], reverse=False)\n",
    "\n",
    "feature_edges = [e[1] for e in edges[:int(len(edges)*0.7)]]\n",
    "label_edges = {(e[1][0], e[1][1]): 1 for e in edges[int(len(edges)*0.7):]}\n",
    "\n",
    "B = nx.Graph()\n",
    "#B.add_nodes_from(user_nodes, bipartite=0)\n",
    "#B.add_nodes_from(tag_nodes, bipartite=1)\n",
    "B.add_weighted_edges_from(feature_edges)\n"
   ]
  },
  {
   "cell_type": "code",
   "execution_count": 14,
   "metadata": {},
   "outputs": [
    {
     "data": {
      "text/plain": [
       "(178788, 96375)"
      ]
     },
     "execution_count": 14,
     "metadata": {},
     "output_type": "execute_result"
    }
   ],
   "source": [
    "B.number_of_edges(), B.number_of_nodes()"
   ]
  },
  {
   "cell_type": "code",
   "execution_count": 22,
   "metadata": {},
   "outputs": [],
   "source": [
    "nodes = list(set(edge[0] for edge in label_edges.keys()))\n",
    "top_nodes = {n for n, d in B.nodes(data=True) if d[\"bipartite\"] == 1}\n",
    "G = bipartite.projected_graph(B, top_nodes)"
   ]
  },
  {
   "cell_type": "code",
   "execution_count": 30,
   "metadata": {},
   "outputs": [],
   "source": [
    "B.remove_nodes_from(set(user_nodes) - set(nodes))"
   ]
  },
  {
   "cell_type": "code",
   "execution_count": 31,
   "metadata": {},
   "outputs": [
    {
     "data": {
      "text/plain": [
       "619066"
      ]
     },
     "execution_count": 31,
     "metadata": {},
     "output_type": "execute_result"
    }
   ],
   "source": [
    "B.number_of_nodes()"
   ]
  },
  {
   "cell_type": "code",
   "execution_count": 32,
   "metadata": {},
   "outputs": [
    {
     "data": {
      "text/plain": [
       "530418"
      ]
     },
     "execution_count": 32,
     "metadata": {},
     "output_type": "execute_result"
    }
   ],
   "source": [
    "top_nodes = {n for n, d in B.nodes(data=True) if d[\"bipartite\"] == 1}\n",
    "G = bipartite.projected_graph(B, top_nodes)\n",
    "G.number_of_nodes()"
   ]
  },
  {
   "cell_type": "code",
   "execution_count": 28,
   "metadata": {},
   "outputs": [],
   "source": [
    "possible = set()\n",
    "neighbors = set(B.neighbors(nodes[0]))\n",
    "user_neighbors = set()\n",
    "for tag in neighbors:\n",
    "    user_neighbors.update(B.neighbors(tag))\n",
    "for user in user_neighbors:\n",
    "    possible.update(set(B.neighbors(user)) - neighbors)"
   ]
  },
  {
   "cell_type": "code",
   "execution_count": 29,
   "metadata": {},
   "outputs": [
    {
     "data": {
      "text/plain": [
       "35377"
      ]
     },
     "execution_count": 29,
     "metadata": {},
     "output_type": "execute_result"
    }
   ],
   "source": [
    "len(possible)"
   ]
  },
  {
   "cell_type": "code",
   "execution_count": 26,
   "metadata": {},
   "outputs": [],
   "source": [
    "import pandas as pd\n",
    "from sklearn.model_selection import train_test_split\n",
    "\n",
    "from imblearn.under_sampling import RandomUnderSampler, NearMiss, TomekLinks"
   ]
  },
  {
   "cell_type": "code",
   "execution_count": 22,
   "metadata": {},
   "outputs": [],
   "source": [
    "features = pd.read_csv('data/clean_datasets/munmun_twitterex_ut_3.csv').set_index('Unnamed: 0')"
   ]
  },
  {
   "cell_type": "code",
   "execution_count": 25,
   "metadata": {},
   "outputs": [],
   "source": [
    "feature_names = list(features.columns)\n",
    "feature_names.remove('label')\n",
    "X_train, X_test, y_train, y_test = train_test_split(features[feature_names].values, features['label'], test_size=0.3, random_state=0)"
   ]
  },
  {
   "cell_type": "code",
   "execution_count": 27,
   "metadata": {},
   "outputs": [],
   "source": [
    "undersample = TomekLinks(sampling_strategy='majority')\n",
    "X_train_us, y_train_us = undersample.fit_resample(X_train, y_train)"
   ]
  }
 ],
 "metadata": {
  "kernelspec": {
   "display_name": "Python 3.8.12",
   "language": "python",
   "name": "python3"
  },
  "language_info": {
   "codemirror_mode": {
    "name": "ipython",
    "version": 3
   },
   "file_extension": ".py",
   "mimetype": "text/x-python",
   "name": "python",
   "nbconvert_exporter": "python",
   "pygments_lexer": "ipython3",
   "version": "3.8.12"
  },
  "orig_nbformat": 4,
  "vscode": {
   "interpreter": {
    "hash": "f27b976aa897af32c09d5b2017e6eaeae9fce6dda3a991c257df1513f3b41573"
   }
  }
 },
 "nbformat": 4,
 "nbformat_minor": 2
}
