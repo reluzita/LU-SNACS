{
 "cells": [
  {
   "cell_type": "code",
   "execution_count": 1,
   "metadata": {},
   "outputs": [],
   "source": [
    "import networkx as nx\n",
    "import pandas as pd\n",
    "import random\n",
    "from tqdm import tqdm\n",
    "import numpy as np"
   ]
  },
  {
   "cell_type": "code",
   "execution_count": 2,
   "metadata": {},
   "outputs": [],
   "source": [
    "G = nx.read_adjlist(\"data/ca-CondMat.txt\", create_using=nx.DiGraph())"
   ]
  },
  {
   "cell_type": "code",
   "execution_count": 3,
   "metadata": {},
   "outputs": [],
   "source": [
    "node = sorted(G.degree, key=lambda x: x[1], reverse=True)[0][0]"
   ]
  },
  {
   "cell_type": "code",
   "execution_count": 4,
   "metadata": {},
   "outputs": [],
   "source": [
    "nodes = list(nx.single_source_shortest_path_length(G, node, cutoff=2).keys())"
   ]
  },
  {
   "cell_type": "code",
   "execution_count": 5,
   "metadata": {},
   "outputs": [],
   "source": [
    "G0 = G.subgraph(nodes)"
   ]
  },
  {
   "cell_type": "code",
   "execution_count": 6,
   "metadata": {},
   "outputs": [
    {
     "data": {
      "text/plain": [
       "(3403, 38072)"
      ]
     },
     "execution_count": 6,
     "metadata": {},
     "output_type": "execute_result"
    }
   ],
   "source": [
    "G0.number_of_nodes(), G0.number_of_edges()"
   ]
  },
  {
   "cell_type": "code",
   "execution_count": 7,
   "metadata": {},
   "outputs": [],
   "source": [
    "data = random.sample(G0.edges, round(G0.number_of_edges()*0.3))"
   ]
  },
  {
   "cell_type": "code",
   "execution_count": 8,
   "metadata": {},
   "outputs": [],
   "source": [
    "G0 = nx.DiGraph(G0)"
   ]
  },
  {
   "cell_type": "code",
   "execution_count": 9,
   "metadata": {},
   "outputs": [],
   "source": [
    "G0.remove_edges_from(data)"
   ]
  },
  {
   "cell_type": "code",
   "execution_count": 10,
   "metadata": {},
   "outputs": [
    {
     "name": "stderr",
     "output_type": "stream",
     "text": [
      "100%|██████████| 3403/3403 [49:21<00:00,  1.15it/s]  \n"
     ]
    }
   ],
   "source": [
    "pairs = []\n",
    "for node in tqdm(G0.nodes):\n",
    "    kneighbors = nx.single_source_shortest_path_length(G0, node, cutoff=2)\n",
    "    for n in kneighbors:\n",
    "        if kneighbors[n] == 2 and (n, node) not in pairs:\n",
    "            pairs.append((node, n))"
   ]
  },
  {
   "cell_type": "code",
   "execution_count": 11,
   "metadata": {},
   "outputs": [],
   "source": [
    "G0_und = nx.Graph(G0)"
   ]
  },
  {
   "cell_type": "code",
   "execution_count": 12,
   "metadata": {},
   "outputs": [
    {
     "name": "stderr",
     "output_type": "stream",
     "text": [
      "100%|██████████| 231431/231431 [01:47<00:00, 2148.70it/s]\n"
     ]
    }
   ],
   "source": [
    "indegree_i = []\n",
    "outdegree_i = []\n",
    "indegree_j = []\n",
    "outdegree_j = []\n",
    "common_neighbors = []\n",
    "#maxflow = []\n",
    "shortest_path = []\n",
    "#katz = []\n",
    "adamic_adar = []\n",
    "pref_attach = []\n",
    "jaccard = []\n",
    "\n",
    "for pair in tqdm(pairs):\n",
    "    indegree_i.append(G0.in_degree(pair[0]))\n",
    "    outdegree_i.append(G0.out_degree(pair[0]))\n",
    "    indegree_j.append(G0.in_degree(pair[1]))\n",
    "    outdegree_j.append(G0.out_degree(pair[1]))\n",
    "    common_neighbors.append(len(list(nx.common_neighbors(G0_und, pair[0],pair[1]))))\n",
    "    shortest_path.append(nx.shortest_path_length(G0, pair[0], pair[1]))\n",
    "    adamic_adar.append(list(nx.adamic_adar_index(G0_und, [(pair[0], pair[1])]))[0][2])\n",
    "    pref_attach.append(list(nx.preferential_attachment(G0_und, [(pair[0], pair[1])]))[0][2])\n",
    "    jaccard.append(list(nx.jaccard_coefficient(G0_und, [(pair[0], pair[1])]))[0][2])\n",
    "\n",
    "features = pd.DataFrame({\n",
    "    'indegree_i': indegree_i,\n",
    "    'outdegree_i': outdegree_i,\n",
    "    'indegree_j': indegree_j,\n",
    "    'outdegree_j': outdegree_j,\n",
    "    'common_neighbors': common_neighbors,\n",
    "    'shortest_path': shortest_path,\n",
    "    'adamic_adar': adamic_adar,\n",
    "    'pref_attach': pref_attach,\n",
    "    'jaccard': jaccard\n",
    "},columns=['indegree_i', 'outdegree_i', 'indegree_j', 'outdegree_j', 'common_neighbors', 'shortest_path',\n",
    "'adamic_adar', 'pref_attach', 'jaccard'], index=pairs)"
   ]
  },
  {
   "cell_type": "code",
   "execution_count": 46,
   "metadata": {},
   "outputs": [
    {
     "data": {
      "text/html": [
       "<div>\n",
       "<style scoped>\n",
       "    .dataframe tbody tr th:only-of-type {\n",
       "        vertical-align: middle;\n",
       "    }\n",
       "\n",
       "    .dataframe tbody tr th {\n",
       "        vertical-align: top;\n",
       "    }\n",
       "\n",
       "    .dataframe thead th {\n",
       "        text-align: right;\n",
       "    }\n",
       "</style>\n",
       "<table border=\"1\" class=\"dataframe\">\n",
       "  <thead>\n",
       "    <tr style=\"text-align: right;\">\n",
       "      <th></th>\n",
       "      <th>indegree_i</th>\n",
       "      <th>outdegree_i</th>\n",
       "      <th>indegree_j</th>\n",
       "      <th>outdegree_j</th>\n",
       "      <th>common_neighbors</th>\n",
       "      <th>shortest_path</th>\n",
       "      <th>adamic_adar</th>\n",
       "      <th>pref_attach</th>\n",
       "      <th>jaccard</th>\n",
       "    </tr>\n",
       "  </thead>\n",
       "  <tbody>\n",
       "    <tr>\n",
       "      <th>(2183, 38606)</th>\n",
       "      <td>3</td>\n",
       "      <td>3</td>\n",
       "      <td>11</td>\n",
       "      <td>11</td>\n",
       "      <td>1</td>\n",
       "      <td>2</td>\n",
       "      <td>0.267546</td>\n",
       "      <td>33</td>\n",
       "      <td>0.076923</td>\n",
       "    </tr>\n",
       "    <tr>\n",
       "      <th>(2183, 59680)</th>\n",
       "      <td>3</td>\n",
       "      <td>3</td>\n",
       "      <td>2</td>\n",
       "      <td>2</td>\n",
       "      <td>1</td>\n",
       "      <td>2</td>\n",
       "      <td>0.267546</td>\n",
       "      <td>6</td>\n",
       "      <td>0.250000</td>\n",
       "    </tr>\n",
       "    <tr>\n",
       "      <th>(2183, 101355)</th>\n",
       "      <td>3</td>\n",
       "      <td>3</td>\n",
       "      <td>53</td>\n",
       "      <td>53</td>\n",
       "      <td>1</td>\n",
       "      <td>2</td>\n",
       "      <td>0.267546</td>\n",
       "      <td>159</td>\n",
       "      <td>0.018182</td>\n",
       "    </tr>\n",
       "    <tr>\n",
       "      <th>(2183, 49973)</th>\n",
       "      <td>3</td>\n",
       "      <td>3</td>\n",
       "      <td>2</td>\n",
       "      <td>2</td>\n",
       "      <td>1</td>\n",
       "      <td>2</td>\n",
       "      <td>0.267546</td>\n",
       "      <td>6</td>\n",
       "      <td>0.250000</td>\n",
       "    </tr>\n",
       "    <tr>\n",
       "      <th>(2183, 17379)</th>\n",
       "      <td>3</td>\n",
       "      <td>3</td>\n",
       "      <td>2</td>\n",
       "      <td>2</td>\n",
       "      <td>1</td>\n",
       "      <td>2</td>\n",
       "      <td>0.267546</td>\n",
       "      <td>6</td>\n",
       "      <td>0.250000</td>\n",
       "    </tr>\n",
       "    <tr>\n",
       "      <th>...</th>\n",
       "      <td>...</td>\n",
       "      <td>...</td>\n",
       "      <td>...</td>\n",
       "      <td>...</td>\n",
       "      <td>...</td>\n",
       "      <td>...</td>\n",
       "      <td>...</td>\n",
       "      <td>...</td>\n",
       "      <td>...</td>\n",
       "    </tr>\n",
       "    <tr>\n",
       "      <th>(80470, 6378)</th>\n",
       "      <td>6</td>\n",
       "      <td>6</td>\n",
       "      <td>6</td>\n",
       "      <td>6</td>\n",
       "      <td>1</td>\n",
       "      <td>2</td>\n",
       "      <td>0.253085</td>\n",
       "      <td>36</td>\n",
       "      <td>0.090909</td>\n",
       "    </tr>\n",
       "    <tr>\n",
       "      <th>(98214, 11214)</th>\n",
       "      <td>4</td>\n",
       "      <td>4</td>\n",
       "      <td>4</td>\n",
       "      <td>4</td>\n",
       "      <td>1</td>\n",
       "      <td>2</td>\n",
       "      <td>0.513898</td>\n",
       "      <td>16</td>\n",
       "      <td>0.142857</td>\n",
       "    </tr>\n",
       "    <tr>\n",
       "      <th>(32029, 11214)</th>\n",
       "      <td>1</td>\n",
       "      <td>1</td>\n",
       "      <td>4</td>\n",
       "      <td>4</td>\n",
       "      <td>1</td>\n",
       "      <td>2</td>\n",
       "      <td>0.402430</td>\n",
       "      <td>4</td>\n",
       "      <td>0.250000</td>\n",
       "    </tr>\n",
       "    <tr>\n",
       "      <th>(72993, 71548)</th>\n",
       "      <td>3</td>\n",
       "      <td>3</td>\n",
       "      <td>17</td>\n",
       "      <td>17</td>\n",
       "      <td>1</td>\n",
       "      <td>2</td>\n",
       "      <td>0.228862</td>\n",
       "      <td>51</td>\n",
       "      <td>0.052632</td>\n",
       "    </tr>\n",
       "    <tr>\n",
       "      <th>(51258, 33194)</th>\n",
       "      <td>5</td>\n",
       "      <td>5</td>\n",
       "      <td>2</td>\n",
       "      <td>2</td>\n",
       "      <td>1</td>\n",
       "      <td>2</td>\n",
       "      <td>0.328459</td>\n",
       "      <td>10</td>\n",
       "      <td>0.166667</td>\n",
       "    </tr>\n",
       "  </tbody>\n",
       "</table>\n",
       "<p>91298 rows × 9 columns</p>\n",
       "</div>"
      ],
      "text/plain": [
       "                indegree_i  outdegree_i  indegree_j  outdegree_j  \\\n",
       "(2183, 38606)            3            3          11           11   \n",
       "(2183, 59680)            3            3           2            2   \n",
       "(2183, 101355)           3            3          53           53   \n",
       "(2183, 49973)            3            3           2            2   \n",
       "(2183, 17379)            3            3           2            2   \n",
       "...                    ...          ...         ...          ...   \n",
       "(80470, 6378)            6            6           6            6   \n",
       "(98214, 11214)           4            4           4            4   \n",
       "(32029, 11214)           1            1           4            4   \n",
       "(72993, 71548)           3            3          17           17   \n",
       "(51258, 33194)           5            5           2            2   \n",
       "\n",
       "                common_neighbors  shortest_path  adamic_adar  pref_attach  \\\n",
       "(2183, 38606)                  1              2     0.267546           33   \n",
       "(2183, 59680)                  1              2     0.267546            6   \n",
       "(2183, 101355)                 1              2     0.267546          159   \n",
       "(2183, 49973)                  1              2     0.267546            6   \n",
       "(2183, 17379)                  1              2     0.267546            6   \n",
       "...                          ...            ...          ...          ...   \n",
       "(80470, 6378)                  1              2     0.253085           36   \n",
       "(98214, 11214)                 1              2     0.513898           16   \n",
       "(32029, 11214)                 1              2     0.402430            4   \n",
       "(72993, 71548)                 1              2     0.228862           51   \n",
       "(51258, 33194)                 1              2     0.328459           10   \n",
       "\n",
       "                 jaccard  \n",
       "(2183, 38606)   0.076923  \n",
       "(2183, 59680)   0.250000  \n",
       "(2183, 101355)  0.018182  \n",
       "(2183, 49973)   0.250000  \n",
       "(2183, 17379)   0.250000  \n",
       "...                  ...  \n",
       "(80470, 6378)   0.090909  \n",
       "(98214, 11214)  0.142857  \n",
       "(32029, 11214)  0.250000  \n",
       "(72993, 71548)  0.052632  \n",
       "(51258, 33194)  0.166667  \n",
       "\n",
       "[91298 rows x 9 columns]"
      ]
     },
     "execution_count": 46,
     "metadata": {},
     "output_type": "execute_result"
    }
   ],
   "source": [
    "features"
   ]
  },
  {
   "cell_type": "code",
   "execution_count": 13,
   "metadata": {},
   "outputs": [],
   "source": [
    "label = []\n",
    "for i, row in features.iterrows():\n",
    "    if i in data or (i[1], i[0]) in data:\n",
    "        label.append(1)\n",
    "    else:\n",
    "        label.append(0)\n",
    "features['label'] = label"
   ]
  },
  {
   "cell_type": "code",
   "execution_count": null,
   "metadata": {},
   "outputs": [],
   "source": [
    "from sklearn.linear_model import LogisticRegression\n",
    "from sklearn.model_selection import train_test_split\n",
    "from sklearn.metrics import classification_report\n",
    "from imblearn.under_sampling import RandomUnderSampler"
   ]
  },
  {
   "cell_type": "code",
   "execution_count": null,
   "metadata": {},
   "outputs": [],
   "source": [
    "X_train, X_test, y_train, y_test = train_test_split(features[[\n",
    "    'indegree_i', 'outdegree_i', 'indegree_j', 'outdegree_j', 'common_neighbors', 'shortest_path',\n",
    "    'adamic_adar', 'pref_attach', 'jaccard']].values, features['label'], test_size=0.3, random_state=0)"
   ]
  },
  {
   "cell_type": "code",
   "execution_count": 93,
   "metadata": {},
   "outputs": [],
   "source": [
    "clf = LogisticRegression().fit(X_train, y_train)\n",
    "y_pred = clf.predict(X_test)\n",
    "report = classification_report(y_test, y_pred, output_dict=True)"
   ]
  },
  {
   "cell_type": "code",
   "execution_count": 59,
   "metadata": {},
   "outputs": [
    {
     "name": "stdout",
     "output_type": "stream",
     "text": [
      "Initial minority class ratio: 0.08273708344863027\n"
     ]
    }
   ],
   "source": [
    "print(\"Initial minority class ratio:\", y_test.value_counts()[1] / y_test.value_counts()[0])"
   ]
  },
  {
   "cell_type": "code",
   "execution_count": 94,
   "metadata": {},
   "outputs": [],
   "source": [
    "maj_precision = [report['0']['precision']]\n",
    "maj_recall = [report['0']['recall']]\n",
    "maj_f1 = [report['0']['f1-score']]\n",
    "min_precision = [report['1']['precision']]\n",
    "min_recall = [report['1']['recall']]\n",
    "min_f1 = [report['1']['f1-score']]\n",
    "accuracy = [report['accuracy']]\n",
    "precision = [report['weighted avg']['precision']]\n",
    "recall = [report['weighted avg']['recall']]\n",
    "f1 = [report['weighted avg']['f1-score']]"
   ]
  },
  {
   "cell_type": "code",
   "execution_count": 95,
   "metadata": {},
   "outputs": [
    {
     "name": "stderr",
     "output_type": "stream",
     "text": [
      "c:\\Users\\ineso\\anaconda3\\lib\\site-packages\\sklearn\\linear_model\\_logistic.py:763: ConvergenceWarning: lbfgs failed to converge (status=1):\n",
      "STOP: TOTAL NO. of ITERATIONS REACHED LIMIT.\n",
      "\n",
      "Increase the number of iterations (max_iter) or scale the data as shown in:\n",
      "    https://scikit-learn.org/stable/modules/preprocessing.html\n",
      "Please also refer to the documentation for alternative solver options:\n",
      "    https://scikit-learn.org/stable/modules/linear_model.html#logistic-regression\n",
      "  n_iter_i = _check_optimize_result(\n",
      "c:\\Users\\ineso\\anaconda3\\lib\\site-packages\\sklearn\\linear_model\\_logistic.py:763: ConvergenceWarning: lbfgs failed to converge (status=1):\n",
      "STOP: TOTAL NO. of ITERATIONS REACHED LIMIT.\n",
      "\n",
      "Increase the number of iterations (max_iter) or scale the data as shown in:\n",
      "    https://scikit-learn.org/stable/modules/preprocessing.html\n",
      "Please also refer to the documentation for alternative solver options:\n",
      "    https://scikit-learn.org/stable/modules/linear_model.html#logistic-regression\n",
      "  n_iter_i = _check_optimize_result(\n"
     ]
    }
   ],
   "source": [
    "for ratio in [0.2, 0.4, 0.6, 0.8, 1.0]:\n",
    "    # print(f\"----RATIO:{ratio}----\")\n",
    "    undersample = RandomUnderSampler(sampling_strategy=ratio)\n",
    "    # transform the dataset\n",
    "    X_train_us, y_train_us = undersample.fit_resample(X_train, y_train)\n",
    "    clf = LogisticRegression().fit(X_train_us, y_train_us)\n",
    "    y_pred = clf.predict(X_test)\n",
    "    \n",
    "    report = classification_report(y_test, y_pred, output_dict=True)\n",
    "\n",
    "    maj_precision.append(report['0']['precision'])\n",
    "    maj_recall.append(report['0']['recall'])\n",
    "    maj_f1.append(report['0']['f1-score'])\n",
    "    min_precision.append(report['1']['precision'])\n",
    "    min_recall.append(report['1']['recall'])\n",
    "    min_f1.append(report['1']['f1-score'])\n",
    "    accuracy.append(report['accuracy'])\n",
    "    precision.append(report['weighted avg']['precision'])\n",
    "    recall.append(report['weighted avg']['recall'])\n",
    "    f1.append(report['weighted avg']['f1-score'])"
   ]
  },
  {
   "cell_type": "code",
   "execution_count": 82,
   "metadata": {},
   "outputs": [],
   "source": [
    "import matplotlib.pyplot as plt"
   ]
  },
  {
   "cell_type": "code",
   "execution_count": 96,
   "metadata": {},
   "outputs": [
    {
     "data": {
      "image/png": "[encoded data removed]",
      "text/plain": [
       "<Figure size 432x288 with 1 Axes>"
      ]
     },
     "metadata": {
      "needs_background": "light"
     },
     "output_type": "display_data"
    }
   ],
   "source": [
    "ratios = [y_test.value_counts()[1] / y_test.value_counts()[0], 0.2, 0.4, 0.6, 0.8, 1.0]\n",
    "plt.title('Majority class results')\n",
    "plt.plot(ratios, maj_precision, label='Precision')\n",
    "plt.plot(ratios, maj_recall, label='Recall')\n",
    "plt.plot(ratios, maj_f1, label='F1')\n",
    "plt.xlabel('Class ratio')\n",
    "plt.ylabel('Value')\n",
    "plt.legend()\n",
    "plt.show()"
   ]
  },
  {
   "cell_type": "code",
   "execution_count": 97,
   "metadata": {},
   "outputs": [
    {
     "data": {
      "image/png": "[encoded data removed]",
      "text/plain": [
       "<Figure size 432x288 with 1 Axes>"
      ]
     },
     "metadata": {
      "needs_background": "light"
     },
     "output_type": "display_data"
    }
   ],
   "source": [
    "ratios = [y_test.value_counts()[1] / y_test.value_counts()[0], 0.2, 0.4, 0.6, 0.8, 1.0]\n",
    "plt.title('Minority class results')\n",
    "plt.plot(ratios, min_precision, label='Precision')\n",
    "plt.plot(ratios, min_recall, label='Recall')\n",
    "plt.plot(ratios, min_f1, label='F1')\n",
    "plt.xlabel('Class ratio')\n",
    "plt.ylabel('Value')\n",
    "plt.legend()\n",
    "plt.show()"
   ]
  },
  {
   "cell_type": "code",
   "execution_count": 106,
   "metadata": {},
   "outputs": [
    {
     "data": {
      "image/png": "[encoded data removed]",
      "text/plain": [
       "<Figure size 432x288 with 1 Axes>"
      ]
     },
     "metadata": {
      "needs_background": "light"
     },
     "output_type": "display_data"
    }
   ],
   "source": [
    "plt.title('Weighted average results')\n",
    "plt.plot(ratios, accuracy, label='Accuracy', linewidth=4)\n",
    "plt.plot(ratios, precision, label='Precision')\n",
    "plt.plot(ratios, recall, label='Recall')\n",
    "plt.plot(ratios, f1, label='F1')\n",
    "plt.xlabel('Class ratio')\n",
    "plt.ylabel('Value')\n",
    "plt.legend()\n",
    "plt.show()"
   ]
  },
  {
   "cell_type": "code",
   "execution_count": 109,
   "metadata": {},
   "outputs": [],
   "source": [
    "results = pd.DataFrame({\n",
    "    'ratio': ratios,\n",
    "    'majority precision': maj_precision,\n",
    "    'majority recall': maj_recall,\n",
    "    'majority f1': maj_f1,\n",
    "    'minority precision': min_precision,\n",
    "    'minority recall': min_recall,\n",
    "    'minority f1': min_f1,\n",
    "    'accuracy': accuracy,\n",
    "    'weighted avg precision': precision,\n",
    "    'weighted avg recall': recall,\n",
    "    'weighted avg f1': f1\n",
    "}).set_index('ratio')"
   ]
  },
  {
   "cell_type": "code",
   "execution_count": 128,
   "metadata": {},
   "outputs": [],
   "source": [
    "results.index = results.index.map('{:,.3f}'.format)"
   ]
  },
  {
   "cell_type": "code",
   "execution_count": 129,
   "metadata": {},
   "outputs": [],
   "source": [
    "for col in results.columns:\n",
    "    results[col] = results[col].map('{:,.3f}'.format)"
   ]
  },
  {
   "cell_type": "code",
   "execution_count": 111,
   "metadata": {},
   "outputs": [],
   "source": [
    "results.to_csv('results.csv')"
   ]
  }
 ],
 "metadata": {
  "kernelspec": {
   "display_name": "Python 3.8.12",
   "language": "python",
   "name": "python3"
  },
  "language_info": {
   "codemirror_mode": {
    "name": "ipython",
    "version": 3
   },
   "file_extension": ".py",
   "mimetype": "text/x-python",
   "name": "python",
   "nbconvert_exporter": "python",
   "pygments_lexer": "ipython3",
   "version": "3.8.12"
  },
  "orig_nbformat": 4,
  "vscode": {
   "interpreter": {
    "hash": "f27b976aa897af32c09d5b2017e6eaeae9fce6dda3a991c257df1513f3b41573"
   }
  }
 },
 "nbformat": 4,
 "nbformat_minor": 2
}
